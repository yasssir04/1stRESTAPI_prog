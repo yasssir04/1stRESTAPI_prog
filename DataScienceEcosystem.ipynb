{
 "cells": [
  {
   "cell_type": "markdown",
   "id": "90087133-f3e0-4101-987a-2860047b00c6",
   "metadata": {},
   "source": [
    "*Data Science Tools and Ecosystem*"
   ]
  },
  {
   "cell_type": "markdown",
   "id": "e25ca365-78a1-4d66-a0a4-cb3a72e55705",
   "metadata": {},
   "source": [
    "In this notebook, Data Science Tools and Ecosystem are summarized."
   ]
  },
  {
   "cell_type": "markdown",
   "id": "f6a00ced-f298-4202-96cc-4b6bf5c7db19",
   "metadata": {},
   "source": [
    "*Objectives:*\n",
    "* Understand basic data science concepts\n",
    "* Learn popular data science libraries\n",
    "* Demonstrate arithmetic operations\n",
    "* Practice coding in Python\n"
   ]
  },
  {
   "cell_type": "markdown",
   "id": "c68ac033-6bcf-4f22-a830-00f1e2a4bb48",
   "metadata": {},
   "source": [
    "Some of the popular languages that Data Scientists use are:\n",
    "1. Python\n",
    "2. R\n",
    "3. SQL\n",
    "4. Julia\n",
    "5. Scala"
   ]
  },
  {
   "cell_type": "markdown",
   "id": "68bd08e4-75e2-4020-9ab3-2ede6817fbb9",
   "metadata": {},
   "source": [
    "Some of the commonly used libraries used by Data Scientists include:\n",
    "* NumPy\n",
    "* Pandas\n",
    "* SciPy\n",
    "* Scikit-learn\n",
    "* TensorFlow\n",
    "* Keras\n",
    "* ggplot2\n",
    "* dplyr\n",
    "* caret"
   ]
  },
  {
   "cell_type": "markdown",
   "id": "a215dea4-a945-4b8a-a732-66647734926e",
   "metadata": {},
   "source": [
    "**Data Science Tools**\n",
    "|Tool|Description|\n",
    "|----|------|\n",
    "|Jupyter|Interactive computing environment|\n",
    "|RStudio|Integrated development environment for R|\n",
    "|Apache Spark|Cluster-computing framework|"
   ]
  },
  {
   "cell_type": "markdown",
   "id": "3251f740-aa70-499e-82bb-cfac0ea92fa0",
   "metadata": {},
   "source": [
    "***Below are a few examples of evaluating arithmetic expressions in Python***"
   ]
  },
  {
   "cell_type": "code",
   "execution_count": 4,
   "id": "f73c01fd-5a2c-449f-b0be-ba3f1ad4f129",
   "metadata": {},
   "outputs": [
    {
     "name": "stdout",
     "output_type": "stream",
     "text": [
      "17\n"
     ]
    }
   ],
   "source": [
    "#This a simple arithmetic expression to multiply then add integers\n",
    "a=3\n",
    "b=4\n",
    "c=5\n",
    "d=(a*b)+c\n",
    "print(d)"
   ]
  },
  {
   "cell_type": "code",
   "execution_count": 5,
   "id": "88ff1b6e-d0fd-4a48-b8ce-105efc9f685f",
   "metadata": {},
   "outputs": [
    {
     "name": "stdout",
     "output_type": "stream",
     "text": [
      "3.3333333333333335\n"
     ]
    }
   ],
   "source": [
    "#This will convert 200 minutes to hours by diving by 60\n",
    "a=200\n",
    "b=60\n",
    "c=a/b\n",
    "print(c)"
   ]
  },
  {
   "cell_type": "markdown",
   "id": "888e402b-b017-4fa0-9106-9672936086cb",
   "metadata": {},
   "source": [
    "**Author**\n",
    "Yassir Hiroli"
   ]
  },
  {
   "cell_type": "code",
   "execution_count": null,
   "id": "6c3e31c0-3a82-4b8b-8a02-8bc2b6466b8b",
   "metadata": {},
   "outputs": [],
   "source": []
  }
 ],
 "metadata": {
  "kernelspec": {
   "display_name": "Python 3 (ipykernel)",
   "language": "python",
   "name": "python3"
  },
  "language_info": {
   "codemirror_mode": {
    "name": "ipython",
    "version": 3
   },
   "file_extension": ".py",
   "mimetype": "text/x-python",
   "name": "python",
   "nbconvert_exporter": "python",
   "pygments_lexer": "ipython3",
   "version": "3.11.9"
  }
 },
 "nbformat": 4,
 "nbformat_minor": 5
}
