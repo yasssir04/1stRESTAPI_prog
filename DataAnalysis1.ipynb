{
  "metadata": {
    "kernelspec": {
      "name": "python",
      "display_name": "Python (Pyodide)",
      "language": "python"
    },
    "language_info": {
      "codemirror_mode": {
        "name": "python",
        "version": 3
      },
      "file_extension": ".py",
      "mimetype": "text/x-python",
      "name": "python",
      "nbconvert_exporter": "python",
      "pygments_lexer": "ipython3",
      "version": "3.8"
    },
    "prev_pub_hash": "7448ebb8dd60e78091dd60fb311427698eadcefa882015fead6e3b78f9edc643",
    "colab": {
      "provenance": []
    }
  },
  "nbformat_minor": 0,
  "nbformat": 4,
  "cells": [
    {
      "cell_type": "markdown",
      "source": [
        "# Data Analysis\n"
      ],
      "metadata": {
        "id": "_XnVpXmHtPrG"
      }
    },
    {
      "cell_type": "code",
      "source": [
        "import piplite\n",
        "await piplite.install(['seaborn', 'lxml', 'openpyxl'])\n",
        "\n",
        "import pandas as pd"
      ],
      "metadata": {
        "trusted": true,
        "id": "yw7Ld2PItPrI",
        "outputId": "1bacef48-e176-45d0-908a-6650fdf22c38"
      },
      "outputs": [
        {
          "name": "stderr",
          "text": "<ipython-input-1-3ed9e9df0608>:4: DeprecationWarning: \nPyarrow will become a required dependency of pandas in the next major release of pandas (pandas 3.0),\n(to allow more performant data types, such as the Arrow string type, and better interoperability with other libraries)\nbut was not found to be installed on your system.\nIf this would cause problems for you,\nplease provide us feedback at https://github.com/pandas-dev/pandas/issues/54466\n        \n  import pandas as pd\n",
          "output_type": "stream"
        }
      ],
      "execution_count": null
    },
    {
      "cell_type": "code",
      "source": [
        "from pyodide.http import pyfetch"
      ],
      "metadata": {
        "trusted": true,
        "id": "pToEO85TtPrK"
      },
      "outputs": [],
      "execution_count": null
    },
    {
      "cell_type": "markdown",
      "source": [
        "**Context:** This dataset is originally from the **National Institute of Diabetes and Digestive and Kidney Diseases**. The objective of the dataset is to diagnostically predict whether or not a patient has diabetes, based on certain diagnostic measurements included in the dataset. Several constraints were placed on the selection of these instances from a larger database. In particular, all patients here are females at least 21 years of age of Pima Indian heritage.\n",
        "\n",
        "**Content:** The datasets consists of several medical predictor variables and one target variable, Outcome. Predictor variables includes the number of pregnancies the patient has had, their BMI, insulin level, age, and so on.\n"
      ],
      "metadata": {
        "id": "FQkd4yyItPrK"
      }
    },
    {
      "cell_type": "markdown",
      "source": [
        "We have 768 rows and 9 columns. The first 8 columns represent the features and the last column represent the target/label.\n"
      ],
      "metadata": {
        "id": "O1K_16H9tPrL"
      }
    },
    {
      "cell_type": "code",
      "source": [
        "# Import pandas library\n",
        "import pandas as pd"
      ],
      "metadata": {
        "trusted": true,
        "id": "qx9qR_iqtPrL",
        "outputId": "9ee4d948-fea9-4bbd-8ccf-a012d9d94057"
      },
      "outputs": [
        {
          "name": "stderr",
          "text": "<ipython-input-1-2b170f6158d4>:2: DeprecationWarning: \nPyarrow will become a required dependency of pandas in the next major release of pandas (pandas 3.0),\n(to allow more performant data types, such as the Arrow string type, and better interoperability with other libraries)\nbut was not found to be installed on your system.\nIf this would cause problems for you,\nplease provide us feedback at https://github.com/pandas-dev/pandas/issues/54466\n        \n  import pandas as pd\n",
          "output_type": "stream"
        }
      ],
      "execution_count": null
    },
    {
      "cell_type": "code",
      "source": [
        "filename = \"https://cf-courses-data.s3.us.cloud-object-storage.appdomain.cloud/IBMDeveloperSkillsNetwork-PY0101EN-SkillsNetwork/labs/Module%205/data/diabetes.csv\"\n",
        "\n",
        "async def download(url, filename):\n",
        "    response = await pyfetch(url)\n",
        "    if response.status == 200:\n",
        "        with open(filename, \"wb\") as f:\n",
        "            f.write(await response.bytes())\n",
        "\n",
        "await download(filename, \"diabetes.csv\")\n",
        "df = pd.read_csv(\"diabetes.csv\")"
      ],
      "metadata": {
        "trusted": true,
        "id": "6NWl0sIptPrL"
      },
      "outputs": [],
      "execution_count": null
    },
    {
      "cell_type": "markdown",
      "source": [
        "After reading the dataset, we can use the **dataframe.head(n)** method to check the top n rows of the dataframe, where n is an integer. Contrary to **dataframe.head(n)**, **dataframe.tail(n)** will show you the bottom n rows of the dataframe.\n"
      ],
      "metadata": {
        "id": "spKtwWaotPrL"
      }
    },
    {
      "cell_type": "code",
      "source": [
        "# show the first 5 rows using dataframe.head() method\n",
        "print(\"The first 5 rows of the dataframe\")\n",
        "df.head(5)"
      ],
      "metadata": {
        "trusted": true,
        "id": "g-2Y0rrqtPrM",
        "outputId": "e0e155b5-8ef8-4940-b09e-999d1489f534"
      },
      "outputs": [
        {
          "name": "stdout",
          "text": "The first 5 rows of the dataframe\n",
          "output_type": "stream"
        },
        {
          "execution_count": 4,
          "output_type": "execute_result",
          "data": {
            "text/plain": "   Pregnancies  Glucose  BloodPressure  SkinThickness  Insulin   BMI  \\\n0            6      148             72             35        0  33.6   \n1            1       85             66             29        0  26.6   \n2            8      183             64              0        0  23.3   \n3            1       89             66             23       94  28.1   \n4            0      137             40             35      168  43.1   \n\n   DiabetesPedigreeFunction  Age  Outcome  \n0                     0.627   50        1  \n1                     0.351   31        0  \n2                     0.672   32        1  \n3                     0.167   21        0  \n4                     2.288   33        1  ",
            "text/html": "<div>\n<style scoped>\n    .dataframe tbody tr th:only-of-type {\n        vertical-align: middle;\n    }\n\n    .dataframe tbody tr th {\n        vertical-align: top;\n    }\n\n    .dataframe thead th {\n        text-align: right;\n    }\n</style>\n<table border=\"1\" class=\"dataframe\">\n  <thead>\n    <tr style=\"text-align: right;\">\n      <th></th>\n      <th>Pregnancies</th>\n      <th>Glucose</th>\n      <th>BloodPressure</th>\n      <th>SkinThickness</th>\n      <th>Insulin</th>\n      <th>BMI</th>\n      <th>DiabetesPedigreeFunction</th>\n      <th>Age</th>\n      <th>Outcome</th>\n    </tr>\n  </thead>\n  <tbody>\n    <tr>\n      <th>0</th>\n      <td>6</td>\n      <td>148</td>\n      <td>72</td>\n      <td>35</td>\n      <td>0</td>\n      <td>33.6</td>\n      <td>0.627</td>\n      <td>50</td>\n      <td>1</td>\n    </tr>\n    <tr>\n      <th>1</th>\n      <td>1</td>\n      <td>85</td>\n      <td>66</td>\n      <td>29</td>\n      <td>0</td>\n      <td>26.6</td>\n      <td>0.351</td>\n      <td>31</td>\n      <td>0</td>\n    </tr>\n    <tr>\n      <th>2</th>\n      <td>8</td>\n      <td>183</td>\n      <td>64</td>\n      <td>0</td>\n      <td>0</td>\n      <td>23.3</td>\n      <td>0.672</td>\n      <td>32</td>\n      <td>1</td>\n    </tr>\n    <tr>\n      <th>3</th>\n      <td>1</td>\n      <td>89</td>\n      <td>66</td>\n      <td>23</td>\n      <td>94</td>\n      <td>28.1</td>\n      <td>0.167</td>\n      <td>21</td>\n      <td>0</td>\n    </tr>\n    <tr>\n      <th>4</th>\n      <td>0</td>\n      <td>137</td>\n      <td>40</td>\n      <td>35</td>\n      <td>168</td>\n      <td>43.1</td>\n      <td>2.288</td>\n      <td>33</td>\n      <td>1</td>\n    </tr>\n  </tbody>\n</table>\n</div>"
          },
          "metadata": {}
        }
      ],
      "execution_count": null
    },
    {
      "cell_type": "markdown",
      "source": [
        "To view the dimensions of the dataframe, we use the **`.shape`** parameter.\n"
      ],
      "metadata": {
        "id": "rBk2sWCMtPrM"
      }
    },
    {
      "cell_type": "code",
      "source": [
        "df.shape"
      ],
      "metadata": {
        "trusted": true,
        "id": "QVKbcTYctPrM",
        "outputId": "67865349-d893-4e0b-85fa-42291a77a581"
      },
      "outputs": [
        {
          "execution_count": 5,
          "output_type": "execute_result",
          "data": {
            "text/plain": "(768, 9)"
          },
          "metadata": {}
        }
      ],
      "execution_count": null
    },
    {
      "cell_type": "markdown",
      "source": [
        "# Statistical Overview of dataset\n"
      ],
      "metadata": {
        "id": "CnrpEkqvtPrN"
      }
    },
    {
      "cell_type": "code",
      "source": [
        "df.info()"
      ],
      "metadata": {
        "trusted": true,
        "id": "HYXu04mStPrN",
        "outputId": "9b965421-aa12-4a28-c61e-5377eeac5c4a"
      },
      "outputs": [
        {
          "name": "stdout",
          "text": "<class 'pandas.core.frame.DataFrame'>\nRangeIndex: 768 entries, 0 to 767\nData columns (total 9 columns):\n #   Column                    Non-Null Count  Dtype  \n---  ------                    --------------  -----  \n 0   Pregnancies               768 non-null    int64  \n 1   Glucose                   768 non-null    int64  \n 2   BloodPressure             768 non-null    int64  \n 3   SkinThickness             768 non-null    int64  \n 4   Insulin                   768 non-null    int64  \n 5   BMI                       768 non-null    float64\n 6   DiabetesPedigreeFunction  768 non-null    float64\n 7   Age                       768 non-null    int64  \n 8   Outcome                   768 non-null    int64  \ndtypes: float64(2), int64(7)\nmemory usage: 54.1 KB\n",
          "output_type": "stream"
        }
      ],
      "execution_count": null
    },
    {
      "cell_type": "markdown",
      "source": [
        "This method prints information about a DataFrame including the index dtype and columns, non-null values and memory usage.\n"
      ],
      "metadata": {
        "id": "TVqi25cttPrN"
      }
    },
    {
      "cell_type": "code",
      "source": [
        "df.describe()"
      ],
      "metadata": {
        "trusted": true,
        "id": "FQryDBxKtPrN",
        "outputId": "9b42238d-a33a-4a06-fa90-6acdf55272c8"
      },
      "outputs": [
        {
          "execution_count": 7,
          "output_type": "execute_result",
          "data": {
            "text/plain": "       Pregnancies     Glucose  BloodPressure  SkinThickness     Insulin  \\\ncount   768.000000  768.000000     768.000000     768.000000  768.000000   \nmean      3.845052  120.894531      69.105469      20.536458   79.799479   \nstd       3.369578   31.972618      19.355807      15.952218  115.244002   \nmin       0.000000    0.000000       0.000000       0.000000    0.000000   \n25%       1.000000   99.000000      62.000000       0.000000    0.000000   \n50%       3.000000  117.000000      72.000000      23.000000   30.500000   \n75%       6.000000  140.250000      80.000000      32.000000  127.250000   \nmax      17.000000  199.000000     122.000000      99.000000  846.000000   \n\n              BMI  DiabetesPedigreeFunction         Age     Outcome  \ncount  768.000000                768.000000  768.000000  768.000000  \nmean    31.992578                  0.471876   33.240885    0.348958  \nstd      7.884160                  0.331329   11.760232    0.476951  \nmin      0.000000                  0.078000   21.000000    0.000000  \n25%     27.300000                  0.243750   24.000000    0.000000  \n50%     32.000000                  0.372500   29.000000    0.000000  \n75%     36.600000                  0.626250   41.000000    1.000000  \nmax     67.100000                  2.420000   81.000000    1.000000  ",
            "text/html": "<div>\n<style scoped>\n    .dataframe tbody tr th:only-of-type {\n        vertical-align: middle;\n    }\n\n    .dataframe tbody tr th {\n        vertical-align: top;\n    }\n\n    .dataframe thead th {\n        text-align: right;\n    }\n</style>\n<table border=\"1\" class=\"dataframe\">\n  <thead>\n    <tr style=\"text-align: right;\">\n      <th></th>\n      <th>Pregnancies</th>\n      <th>Glucose</th>\n      <th>BloodPressure</th>\n      <th>SkinThickness</th>\n      <th>Insulin</th>\n      <th>BMI</th>\n      <th>DiabetesPedigreeFunction</th>\n      <th>Age</th>\n      <th>Outcome</th>\n    </tr>\n  </thead>\n  <tbody>\n    <tr>\n      <th>count</th>\n      <td>768.000000</td>\n      <td>768.000000</td>\n      <td>768.000000</td>\n      <td>768.000000</td>\n      <td>768.000000</td>\n      <td>768.000000</td>\n      <td>768.000000</td>\n      <td>768.000000</td>\n      <td>768.000000</td>\n    </tr>\n    <tr>\n      <th>mean</th>\n      <td>3.845052</td>\n      <td>120.894531</td>\n      <td>69.105469</td>\n      <td>20.536458</td>\n      <td>79.799479</td>\n      <td>31.992578</td>\n      <td>0.471876</td>\n      <td>33.240885</td>\n      <td>0.348958</td>\n    </tr>\n    <tr>\n      <th>std</th>\n      <td>3.369578</td>\n      <td>31.972618</td>\n      <td>19.355807</td>\n      <td>15.952218</td>\n      <td>115.244002</td>\n      <td>7.884160</td>\n      <td>0.331329</td>\n      <td>11.760232</td>\n      <td>0.476951</td>\n    </tr>\n    <tr>\n      <th>min</th>\n      <td>0.000000</td>\n      <td>0.000000</td>\n      <td>0.000000</td>\n      <td>0.000000</td>\n      <td>0.000000</td>\n      <td>0.000000</td>\n      <td>0.078000</td>\n      <td>21.000000</td>\n      <td>0.000000</td>\n    </tr>\n    <tr>\n      <th>25%</th>\n      <td>1.000000</td>\n      <td>99.000000</td>\n      <td>62.000000</td>\n      <td>0.000000</td>\n      <td>0.000000</td>\n      <td>27.300000</td>\n      <td>0.243750</td>\n      <td>24.000000</td>\n      <td>0.000000</td>\n    </tr>\n    <tr>\n      <th>50%</th>\n      <td>3.000000</td>\n      <td>117.000000</td>\n      <td>72.000000</td>\n      <td>23.000000</td>\n      <td>30.500000</td>\n      <td>32.000000</td>\n      <td>0.372500</td>\n      <td>29.000000</td>\n      <td>0.000000</td>\n    </tr>\n    <tr>\n      <th>75%</th>\n      <td>6.000000</td>\n      <td>140.250000</td>\n      <td>80.000000</td>\n      <td>32.000000</td>\n      <td>127.250000</td>\n      <td>36.600000</td>\n      <td>0.626250</td>\n      <td>41.000000</td>\n      <td>1.000000</td>\n    </tr>\n    <tr>\n      <th>max</th>\n      <td>17.000000</td>\n      <td>199.000000</td>\n      <td>122.000000</td>\n      <td>99.000000</td>\n      <td>846.000000</td>\n      <td>67.100000</td>\n      <td>2.420000</td>\n      <td>81.000000</td>\n      <td>1.000000</td>\n    </tr>\n  </tbody>\n</table>\n</div>"
          },
          "metadata": {}
        }
      ],
      "execution_count": null
    },
    {
      "cell_type": "markdown",
      "source": [
        "Pandas **describe()** is used to view some basic statistical details like percentile, mean, standard deviation, etc. of a data frame or a series of numeric values. When this method is applied to a series of strings, it returns a different output\n"
      ],
      "metadata": {
        "id": "OxFGSDZ_tPrO"
      }
    },
    {
      "cell_type": "markdown",
      "source": [
        "### Identify and handle missing values\n"
      ],
      "metadata": {
        "id": "5UOD6P_utPrO"
      }
    },
    {
      "cell_type": "markdown",
      "source": [
        "We use Python's built-in functions to identify these missing values. There are two methods to detect missing data:\n",
        "\n",
        "**.isnull()**\n",
        "\n",
        "**.notnull()**\n",
        "\n",
        "The output is a boolean value indicating whether the value that is passed into the argument is in fact missing data.\n"
      ],
      "metadata": {
        "id": "xjxSbikktPrO"
      }
    },
    {
      "cell_type": "code",
      "source": [
        "missing_data = df.isnull()\n",
        "missing_data.head(5)"
      ],
      "metadata": {
        "trusted": true,
        "id": "Rv6a1BVftPrO",
        "outputId": "be4e0e9a-a702-458a-f943-2855f15d6cbd"
      },
      "outputs": [
        {
          "execution_count": 8,
          "output_type": "execute_result",
          "data": {
            "text/plain": "   Pregnancies  Glucose  BloodPressure  SkinThickness  Insulin    BMI  \\\n0        False    False          False          False    False  False   \n1        False    False          False          False    False  False   \n2        False    False          False          False    False  False   \n3        False    False          False          False    False  False   \n4        False    False          False          False    False  False   \n\n   DiabetesPedigreeFunction    Age  Outcome  \n0                     False  False    False  \n1                     False  False    False  \n2                     False  False    False  \n3                     False  False    False  \n4                     False  False    False  ",
            "text/html": "<div>\n<style scoped>\n    .dataframe tbody tr th:only-of-type {\n        vertical-align: middle;\n    }\n\n    .dataframe tbody tr th {\n        vertical-align: top;\n    }\n\n    .dataframe thead th {\n        text-align: right;\n    }\n</style>\n<table border=\"1\" class=\"dataframe\">\n  <thead>\n    <tr style=\"text-align: right;\">\n      <th></th>\n      <th>Pregnancies</th>\n      <th>Glucose</th>\n      <th>BloodPressure</th>\n      <th>SkinThickness</th>\n      <th>Insulin</th>\n      <th>BMI</th>\n      <th>DiabetesPedigreeFunction</th>\n      <th>Age</th>\n      <th>Outcome</th>\n    </tr>\n  </thead>\n  <tbody>\n    <tr>\n      <th>0</th>\n      <td>False</td>\n      <td>False</td>\n      <td>False</td>\n      <td>False</td>\n      <td>False</td>\n      <td>False</td>\n      <td>False</td>\n      <td>False</td>\n      <td>False</td>\n    </tr>\n    <tr>\n      <th>1</th>\n      <td>False</td>\n      <td>False</td>\n      <td>False</td>\n      <td>False</td>\n      <td>False</td>\n      <td>False</td>\n      <td>False</td>\n      <td>False</td>\n      <td>False</td>\n    </tr>\n    <tr>\n      <th>2</th>\n      <td>False</td>\n      <td>False</td>\n      <td>False</td>\n      <td>False</td>\n      <td>False</td>\n      <td>False</td>\n      <td>False</td>\n      <td>False</td>\n      <td>False</td>\n    </tr>\n    <tr>\n      <th>3</th>\n      <td>False</td>\n      <td>False</td>\n      <td>False</td>\n      <td>False</td>\n      <td>False</td>\n      <td>False</td>\n      <td>False</td>\n      <td>False</td>\n      <td>False</td>\n    </tr>\n    <tr>\n      <th>4</th>\n      <td>False</td>\n      <td>False</td>\n      <td>False</td>\n      <td>False</td>\n      <td>False</td>\n      <td>False</td>\n      <td>False</td>\n      <td>False</td>\n      <td>False</td>\n    </tr>\n  </tbody>\n</table>\n</div>"
          },
          "metadata": {}
        }
      ],
      "execution_count": null
    },
    {
      "cell_type": "markdown",
      "source": [
        "\"True\" stands for missing value, while \"False\" stands for not missing value.\n"
      ],
      "metadata": {
        "id": "YyNPx9agtPrO"
      }
    },
    {
      "cell_type": "markdown",
      "source": [
        "<h4>Count missing values in each column</h4>\n",
        "<p>\n",
        "Using a for loop in Python, we can quickly figure out the number of missing values in each column. As mentioned above, \"True\" represents a missing value, \"False\"  means the value is present in the dataset.  In the body of the for loop the method \".value_counts()\"  counts the number of \"True\" values.\n",
        "</p>\n"
      ],
      "metadata": {
        "id": "RH9uVVG-tPrO"
      }
    },
    {
      "cell_type": "code",
      "source": [
        "for column in missing_data.columns.values.tolist():\n",
        "    print(column)\n",
        "    print (missing_data[column].value_counts())\n",
        "    print(\"\")"
      ],
      "metadata": {
        "trusted": true,
        "id": "sRCblU0YtPrO",
        "outputId": "f668e2b8-0bda-4432-df53-47a780ade424"
      },
      "outputs": [
        {
          "name": "stdout",
          "text": "Pregnancies\nPregnancies\nFalse    768\nName: count, dtype: int64\n\nGlucose\nGlucose\nFalse    768\nName: count, dtype: int64\n\nBloodPressure\nBloodPressure\nFalse    768\nName: count, dtype: int64\n\nSkinThickness\nSkinThickness\nFalse    768\nName: count, dtype: int64\n\nInsulin\nInsulin\nFalse    768\nName: count, dtype: int64\n\nBMI\nBMI\nFalse    768\nName: count, dtype: int64\n\nDiabetesPedigreeFunction\nDiabetesPedigreeFunction\nFalse    768\nName: count, dtype: int64\n\nAge\nAge\nFalse    768\nName: count, dtype: int64\n\nOutcome\nOutcome\nFalse    768\nName: count, dtype: int64\n\n",
          "output_type": "stream"
        }
      ],
      "execution_count": null
    },
    {
      "cell_type": "markdown",
      "source": [
        "As you can see above, there is no missing values in the dataset.\n"
      ],
      "metadata": {
        "id": "rysoxRkEtPrP"
      }
    },
    {
      "cell_type": "markdown",
      "source": [
        "<h3 id=\"correct_data_format\">Correct data format</h3>\n",
        "\n",
        "<p>Check all data is in the correct format (int, float, text or other).</p>\n",
        "\n",
        "In Pandas, we use\n",
        "\n",
        "<p><b>.dtype()</b> to check the data type</p>\n",
        "<p><b>.astype()</b> to change the data type</p>\n",
        "\n",
        "Numerical variables should have type **'float'** or **'int'**.\n"
      ],
      "metadata": {
        "id": "U4zPyFVgtPrP"
      }
    },
    {
      "cell_type": "code",
      "source": [
        "df.dtypes"
      ],
      "metadata": {
        "trusted": true,
        "id": "nJdoCtoAtPrP",
        "outputId": "a10ad884-b98b-41b6-c5d6-2d727a6c2de2"
      },
      "outputs": [
        {
          "execution_count": 10,
          "output_type": "execute_result",
          "data": {
            "text/plain": "Pregnancies                   int64\nGlucose                       int64\nBloodPressure                 int64\nSkinThickness                 int64\nInsulin                       int64\nBMI                         float64\nDiabetesPedigreeFunction    float64\nAge                           int64\nOutcome                       int64\ndtype: object"
          },
          "metadata": {}
        }
      ],
      "execution_count": null
    },
    {
      "cell_type": "markdown",
      "source": [
        "As we can see above, All columns have the correct data type.\n"
      ],
      "metadata": {
        "id": "RhrCxovetPrP"
      }
    },
    {
      "cell_type": "markdown",
      "source": [
        "# Visualization\n"
      ],
      "metadata": {
        "id": "o9i6sdP7tPrP"
      }
    },
    {
      "cell_type": "markdown",
      "source": [
        "**Visualization** is one of the best way to get insights from the dataset. **Seaborn** and **Matplotlib** are two of Python's most powerful visualization libraries.\n"
      ],
      "metadata": {
        "id": "HDT6RdWytPrP"
      }
    },
    {
      "cell_type": "code",
      "source": [
        "# import libraries\n",
        "import matplotlib.pyplot as plt\n",
        "import seaborn as sns"
      ],
      "metadata": {
        "trusted": true,
        "id": "v6auggZatPrQ"
      },
      "outputs": [],
      "execution_count": null
    },
    {
      "cell_type": "code",
      "source": [
        "labels= 'Not Diabetic','Diabetic'\n",
        "plt.pie(df['Outcome'].value_counts(),labels=labels,autopct='%0.02f%%')\n",
        "plt.legend()\n",
        "plt.show()"
      ],
      "metadata": {
        "trusted": true,
        "id": "MjdseAm8tPrQ",
        "outputId": "69442917-0615-4de5-e40f-92107370d928"
      },
      "outputs": [
        {
          "output_type": "display_data",
          "data": {
            "text/plain": "<Figure size 640x480 with 1 Axes>",
            "image/png": "[encoded data removed]"
          },
          "metadata": {}
        }
      ],
      "execution_count": null
    },
    {
      "cell_type": "markdown",
      "source": [
        "As you can see above, 65.10% females are not Diabetic and 34.90% are Diabetic.\n"
      ],
      "metadata": {
        "id": "MP_wnk90tPrQ"
      }
    },
    {
      "cell_type": "markdown",
      "source": [
        "# Thank you for completing this Notebook\n"
      ],
      "metadata": {
        "id": "2-iyOW40tPrQ"
      }
    },
    {
      "cell_type": "markdown",
      "source": [
        "## Change Log\n",
        "\n",
        "| Date (YYYY-MM-DD) | Version | Changed By    | Change Description |\n",
        "| ----------------- | ------- | ------------- | ------------------ |\n",
        "| 2023-11-02 | 1.1 | Abhishek Gagneja | Updated instructions |\n",
        "| 2023-06-11        | 1.0     | Akansha yadav   | Spell check\n",
        "| 2022-01-25        | 0.1     | Lakshmi Holla | added read_xml     |\n"
      ],
      "metadata": {
        "id": "ak7mvhKbtPrQ"
      }
    },
    {
      "cell_type": "code",
      "source": [],
      "metadata": {
        "id": "EhnuUaPhtPrR"
      },
      "outputs": [],
      "execution_count": null
    }
  ]
}